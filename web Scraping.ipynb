{
 "cells": [
  {
   "cell_type": "code",
   "execution_count": 1,
   "id": "e9a6447d",
   "metadata": {},
   "outputs": [],
   "source": [
    "# install all the requirements\n",
    "# pip install request\n",
    "# pip install bs4\n",
    "# pip install html5lib\n",
    "import requests\n",
    "from bs4 import BeautifulSoup"
   ]
  },
  {
   "cell_type": "code",
   "execution_count": 39,
   "id": "423e4e8c",
   "metadata": {},
   "outputs": [],
   "source": [
    "url=\"https://www.codewithharry.com/\""
   ]
  },
  {
   "cell_type": "code",
   "execution_count": 40,
   "id": "6f7788ac",
   "metadata": {},
   "outputs": [],
   "source": [
    "#Step1: Get HTML content\n",
    "r=requests.get(url)\n",
    "htmlContent=r.content"
   ]
  },
  {
   "cell_type": "code",
   "execution_count": 41,
   "id": "d984c280",
   "metadata": {},
   "outputs": [],
   "source": [
    "# Step2: Parse the HTML\n",
    "soup=BeautifulSoup(htmlContent,'html.parser')"
   ]
  },
  {
   "cell_type": "code",
   "execution_count": 47,
   "id": "81c597b1",
   "metadata": {},
   "outputs": [
    {
     "name": "stdout",
     "output_type": "stream",
     "text": [
      "<class 'bs4.BeautifulSoup'>\n",
      "<class 'bs4.element.Tag'>\n",
      "<class 'bs4.element.NavigableString'>\n"
     ]
    }
   ],
   "source": [
    "#Step3: HTML tree Traversal\n",
    "#Commonly used types of object\n",
    "\n",
    "#1.BeautifulSoup\n",
    "print(type(soup))\n",
    "#2.Tag\n",
    "print(type(soup.title))\n",
    "#3.NavigableString\n",
    "print(type(soup.title.string))"
   ]
  },
  {
   "cell_type": "code",
   "execution_count": 59,
   "id": "4b4a7436",
   "metadata": {},
   "outputs": [
    {
     "name": "stdout",
     "output_type": "stream",
     "text": [
      "['Home | CodeWithHarry']\n",
      "<class 'list'>\n"
     ]
    }
   ],
   "source": [
    "# Get the title of HTML page\n",
    "title=soup.title.contents\n",
    "print(title)\n",
    "print(type(title))"
   ]
  },
  {
   "cell_type": "code",
   "execution_count": 67,
   "id": "165d7538",
   "metadata": {},
   "outputs": [],
   "source": [
    "# Get all paras from the page\n",
    "paras=soup.find_all('p')\n",
    "# print(paras)"
   ]
  },
  {
   "cell_type": "code",
   "execution_count": 73,
   "id": "a7bab00f",
   "metadata": {},
   "outputs": [
    {
     "name": "stdout",
     "output_type": "stream",
     "text": [
      "https://codewithharry.nyc3.cdn.digitaloceanspaces.com/assets/e1c843acc10c59c60504cd438a082c6d.png\n"
     ]
    }
   ],
   "source": [
    "#Get src tag in img\n",
    "src=soup.find('img')['src']\n",
    "print(src)"
   ]
  },
  {
   "cell_type": "code",
   "execution_count": 119,
   "id": "fcab3759",
   "metadata": {},
   "outputs": [
    {
     "name": "stdout",
     "output_type": "stream",
     "text": [
      "/\n",
      "/\n",
      "/videos/\n",
      "/blog/\n",
      "/contact/\n",
      "/videos/tailwind-course-in-hindi-1/\n",
      "/videos/nextjs-tutorial-in-hindi-1/\n",
      "/videos/react-tutorials-in-hindi-1/\n",
      "https://www.facebook.com/CodeWithHarry/\n",
      "https://www.instagram.com/CodeWithHarry/\n",
      "10\n"
     ]
    }
   ],
   "source": [
    "#Get all the anchor tags from the page\n",
    "anchors=soup.find_all('a')\n",
    "# anchors\n",
    "#Get all links in anchor tag\n",
    "anchor=soup.find_all('a')\n",
    "for i in range(len(anchor)):\n",
    "    print(anchor[i]['href'])\n",
    "print(len(anchor))"
   ]
  },
  {
   "cell_type": "code",
   "execution_count": 82,
   "id": "3101b9a4",
   "metadata": {},
   "outputs": [
    {
     "name": "stdout",
     "output_type": "stream",
     "text": [
      "[<p class=\"text-sm text-gray-500 sm:ml-4 sm:pl-4 sm:border-l-2 sm:border-gray-200 sm:py-2 sm:mt-0 mt-4 text-center\">Copyright © 2022 CodeWithHarry.com</p>]\n"
     ]
    }
   ],
   "source": [
    "# Find all elements with class lead\n",
    "class_lead=soup.find_all('p',class_=\"sm:border-gray-200\")\n",
    "print(class_lead)"
   ]
  },
  {
   "cell_type": "code",
   "execution_count": 87,
   "id": "94992856",
   "metadata": {},
   "outputs": [
    {
     "data": {
      "text/plain": [
       "'Confused on which course to take? I have got you covered. Browse courses and find out the best course for you. Its free! Code With Harry is my attempt to teach basics and those coding techniques to people in short time which took me ages to learn.'"
      ]
     },
     "execution_count": 87,
     "metadata": {},
     "output_type": "execute_result"
    }
   ],
   "source": [
    "# Get text from the tags/soup\n",
    "soup.find('p').get_text()\n",
    "# soup.get_text()\n"
   ]
  },
  {
   "cell_type": "code",
   "execution_count": 120,
   "id": "dbdea1af",
   "metadata": {},
   "outputs": [
    {
     "name": "stdout",
     "output_type": "stream",
     "text": [
      "https://www.codewithharry.com//blog/\n",
      "https://www.codewithharry.com//contact/\n",
      "https://www.codewithharry.com//videos/nextjs-tutorial-in-hindi-1/\n",
      "https://www.codewithharry.com//videos/react-tutorials-in-hindi-1/\n",
      "https://www.codewithharry.com//\n",
      "https://www.codewithharry.com/https://www.instagram.com/CodeWithHarry/\n",
      "https://www.codewithharry.com//videos/tailwind-course-in-hindi-1/\n",
      "https://www.codewithharry.com/https://www.facebook.com/CodeWithHarry/\n",
      "https://www.codewithharry.com//videos/\n",
      "9\n"
     ]
    }
   ],
   "source": [
    "#Get all links from page(Don't add '#' and duplicate links)\n",
    "anchoreLink=soup.find_all('a')\n",
    "setOflink=set()\n",
    "for link in anchoreLink:\n",
    "    if link['href']!='#':\n",
    "        setOflink.add(\"https://www.codewithharry.com/\"+link['href'])\n",
    "        \n",
    "for setLink in setOflink:\n",
    "    print(setLink)\n",
    "print(len(setOflink))"
   ]
  },
  {
   "cell_type": "code",
   "execution_count": 139,
   "id": "9098bfa8",
   "metadata": {},
   "outputs": [
    {
     "name": "stdout",
     "output_type": "stream",
     "text": [
      "<div class=\"text-center my-2 px-4\"><button class=\"text-white bg-purple-700 hover:bg-purple-800 focus:ring-4 focus:ring-purple-300 font-medium rounded-lg text-sm px-3 py-2 text-center inline-flex items-center mx-1\" id=\"login\">Login</button><button class=\"text-white bg-purple-700 hover:bg-purple-800 focus:ring-4 focus:ring-purple-300 font-medium rounded-lg text-sm px-3 py-2 text-center inline-flex items-center mx-1\" id=\"signup\">Signup</button></div>\n"
     ]
    }
   ],
   "source": [
    "navContent=soup.find(id='nav-content')\n",
    "print(navContent.contents[1])\n"
   ]
  },
  {
   "cell_type": "code",
   "execution_count": 143,
   "id": "bf1fea43",
   "metadata": {
    "scrolled": true
   },
   "outputs": [
    {
     "name": "stdout",
     "output_type": "stream",
     "text": [
      "Home\n",
      "Courses\n",
      "Blog\n",
      "Contact\n",
      "Login\n",
      "Signup\n"
     ]
    }
   ],
   "source": [
    "for item in navContent.stripped_strings:\n",
    "    print(item)"
   ]
  },
  {
   "cell_type": "code",
   "execution_count": null,
   "id": "16f68de5",
   "metadata": {},
   "outputs": [],
   "source": []
  }
 ],
 "metadata": {
  "kernelspec": {
   "display_name": "Python 3 (ipykernel)",
   "language": "python",
   "name": "python3"
  },
  "language_info": {
   "codemirror_mode": {
    "name": "ipython",
    "version": 3
   },
   "file_extension": ".py",
   "mimetype": "text/x-python",
   "name": "python",
   "nbconvert_exporter": "python",
   "pygments_lexer": "ipython3",
   "version": "3.9.7"
  }
 },
 "nbformat": 4,
 "nbformat_minor": 5
}
